{
  "nbformat": 4,
  "nbformat_minor": 0,
  "metadata": {
    "colab": {
      "name": "NER_lab.ipynb",
      "provenance": [],
      "authorship_tag": "ABX9TyNJWFn7kOLMNj+HL0kQlZFZ",
      "include_colab_link": true
    },
    "kernelspec": {
      "name": "python3",
      "display_name": "Python 3"
    },
    "language_info": {
      "name": "python"
    }
  },
  "cells": [
    {
      "cell_type": "markdown",
      "metadata": {
        "id": "view-in-github",
        "colab_type": "text"
      },
      "source": [
        "<a href=\"https://colab.research.google.com/github/olegov99/text-classification/blob/main/NER_lab.ipynb\" target=\"_parent\"><img src=\"https://colab.research.google.com/assets/colab-badge.svg\" alt=\"Open In Colab\"/></a>"
      ]
    },
    {
      "cell_type": "code",
      "source": [
        "!pip install sklearn_crfsuite\n",
        "!pip install -U 'scikit-learn<0.24'"
      ],
      "metadata": {
        "id": "3pHop2XfT6zg",
        "outputId": "abce33d5-f2de-47b9-91f8-be4666a04a61",
        "colab": {
          "base_uri": "https://localhost:8080/"
        }
      },
      "execution_count": 2,
      "outputs": [
        {
          "output_type": "stream",
          "name": "stdout",
          "text": [
            "Collecting sklearn_crfsuite\n",
            "  Downloading sklearn_crfsuite-0.3.6-py2.py3-none-any.whl (12 kB)\n",
            "Requirement already satisfied: tqdm>=2.0 in /usr/local/lib/python3.7/dist-packages (from sklearn_crfsuite) (4.62.3)\n",
            "Requirement already satisfied: tabulate in /usr/local/lib/python3.7/dist-packages (from sklearn_crfsuite) (0.8.9)\n",
            "Requirement already satisfied: six in /usr/local/lib/python3.7/dist-packages (from sklearn_crfsuite) (1.15.0)\n",
            "Collecting python-crfsuite>=0.8.3\n",
            "  Downloading python_crfsuite-0.9.7-cp37-cp37m-manylinux1_x86_64.whl (743 kB)\n",
            "\u001b[K     |████████████████████████████████| 743 kB 4.9 MB/s \n",
            "\u001b[?25hInstalling collected packages: python-crfsuite, sklearn-crfsuite\n",
            "Successfully installed python-crfsuite-0.9.7 sklearn-crfsuite-0.3.6\n",
            "Collecting scikit-learn<0.24\n",
            "  Downloading scikit_learn-0.23.2-cp37-cp37m-manylinux1_x86_64.whl (6.8 MB)\n",
            "\u001b[K     |████████████████████████████████| 6.8 MB 5.2 MB/s \n",
            "\u001b[?25hRequirement already satisfied: scipy>=0.19.1 in /usr/local/lib/python3.7/dist-packages (from scikit-learn<0.24) (1.4.1)\n",
            "Requirement already satisfied: threadpoolctl>=2.0.0 in /usr/local/lib/python3.7/dist-packages (from scikit-learn<0.24) (3.0.0)\n",
            "Requirement already satisfied: joblib>=0.11 in /usr/local/lib/python3.7/dist-packages (from scikit-learn<0.24) (1.1.0)\n",
            "Requirement already satisfied: numpy>=1.13.3 in /usr/local/lib/python3.7/dist-packages (from scikit-learn<0.24) (1.19.5)\n",
            "Installing collected packages: scikit-learn\n",
            "  Attempting uninstall: scikit-learn\n",
            "    Found existing installation: scikit-learn 1.0.1\n",
            "    Uninstalling scikit-learn-1.0.1:\n",
            "      Successfully uninstalled scikit-learn-1.0.1\n",
            "\u001b[31mERROR: pip's dependency resolver does not currently take into account all the packages that are installed. This behaviour is the source of the following dependency conflicts.\n",
            "imbalanced-learn 0.8.1 requires scikit-learn>=0.24, but you have scikit-learn 0.23.2 which is incompatible.\u001b[0m\n",
            "Successfully installed scikit-learn-0.23.2\n"
          ]
        }
      ]
    },
    {
      "cell_type": "code",
      "execution_count": 3,
      "metadata": {
        "id": "YtvWO90qK1WB",
        "colab": {
          "base_uri": "https://localhost:8080/"
        },
        "outputId": "be3bf69e-bb30-448f-c13c-f421a72617c5"
      },
      "outputs": [
        {
          "output_type": "stream",
          "name": "stdout",
          "text": [
            "Mounted at /content/drive\n"
          ]
        }
      ],
      "source": [
        "import urllib\n",
        "import pandas as pd\n",
        "import numpy as np\n",
        "import csv\n",
        "import matplotlib.pyplot as plt\n",
        "import io\n",
        "\n",
        "from google.colab import drive\n",
        "drive.mount('/content/drive')"
      ]
    },
    {
      "cell_type": "markdown",
      "source": [
        "## **Exploratory Data Analysis**"
      ],
      "metadata": {
        "id": "qTzyfbntnW8r"
      }
    },
    {
      "cell_type": "code",
      "source": [
        "TRAIN_DATA_URL = 'https://raw.githubusercontent.com/juand-r/entity-recognition-datasets/master/data/GUM/CONLL-format/data/train/gum-train.conll'\n",
        "TEST_DATA_URL = 'https://raw.githubusercontent.com/juand-r/entity-recognition-datasets/master/data/GUM/CONLL-format/data/test/gum-test.conll'"
      ],
      "metadata": {
        "id": "Yi9FaTj7b8xY"
      },
      "execution_count": 4,
      "outputs": []
    },
    {
      "cell_type": "code",
      "source": [
        "COL_NAMES = ['word', 'tag']\n",
        "\n",
        "df_train_data = pd.read_csv(TRAIN_DATA_URL, sep='\\t', names=COL_NAMES, skip_blank_lines=True, encoding='utf-8', quoting=csv.QUOTE_NONE)\n",
        "df_test_data = pd.read_csv(TEST_DATA_URL, sep='\\t', names=COL_NAMES, skip_blank_lines=True, encoding='utf-8', quoting=csv.QUOTE_NONE)"
      ],
      "metadata": {
        "id": "Y90kWLQ9fBFr"
      },
      "execution_count": 5,
      "outputs": []
    },
    {
      "cell_type": "code",
      "source": [
        "df_train_data.head()"
      ],
      "metadata": {
        "colab": {
          "base_uri": "https://localhost:8080/",
          "height": 206
        },
        "id": "fVVCijsdhjBJ",
        "outputId": "7a9515c3-4058-43d8-aad3-03071256d6c6"
      },
      "execution_count": 6,
      "outputs": [
        {
          "output_type": "execute_result",
          "data": {
            "text/html": [
              "<div>\n",
              "<style scoped>\n",
              "    .dataframe tbody tr th:only-of-type {\n",
              "        vertical-align: middle;\n",
              "    }\n",
              "\n",
              "    .dataframe tbody tr th {\n",
              "        vertical-align: top;\n",
              "    }\n",
              "\n",
              "    .dataframe thead th {\n",
              "        text-align: right;\n",
              "    }\n",
              "</style>\n",
              "<table border=\"1\" class=\"dataframe\">\n",
              "  <thead>\n",
              "    <tr style=\"text-align: right;\">\n",
              "      <th></th>\n",
              "      <th>word</th>\n",
              "      <th>tag</th>\n",
              "    </tr>\n",
              "  </thead>\n",
              "  <tbody>\n",
              "    <tr>\n",
              "      <th>0</th>\n",
              "      <td>The</td>\n",
              "      <td>B-object</td>\n",
              "    </tr>\n",
              "    <tr>\n",
              "      <th>1</th>\n",
              "      <td>back</td>\n",
              "      <td>I-object</td>\n",
              "    </tr>\n",
              "    <tr>\n",
              "      <th>2</th>\n",
              "      <td>of</td>\n",
              "      <td>I-object</td>\n",
              "    </tr>\n",
              "    <tr>\n",
              "      <th>3</th>\n",
              "      <td>my</td>\n",
              "      <td>I-object</td>\n",
              "    </tr>\n",
              "    <tr>\n",
              "      <th>4</th>\n",
              "      <td>jersey</td>\n",
              "      <td>I-object</td>\n",
              "    </tr>\n",
              "  </tbody>\n",
              "</table>\n",
              "</div>"
            ],
            "text/plain": [
              "     word       tag\n",
              "0     The  B-object\n",
              "1    back  I-object\n",
              "2      of  I-object\n",
              "3      my  I-object\n",
              "4  jersey  I-object"
            ]
          },
          "metadata": {},
          "execution_count": 6
        }
      ]
    },
    {
      "cell_type": "code",
      "source": [
        "df_train_data.shape"
      ],
      "metadata": {
        "colab": {
          "base_uri": "https://localhost:8080/"
        },
        "id": "lC-KKQucmzvv",
        "outputId": "4b54766e-99b1-44e8-b741-fb2a0d908acf"
      },
      "execution_count": 7,
      "outputs": [
        {
          "output_type": "execute_result",
          "data": {
            "text/plain": [
              "(44111, 2)"
            ]
          },
          "metadata": {},
          "execution_count": 7
        }
      ]
    },
    {
      "cell_type": "code",
      "source": [
        "df_train_data.isna().sum()"
      ],
      "metadata": {
        "colab": {
          "base_uri": "https://localhost:8080/"
        },
        "id": "p_Avv0QaokTA",
        "outputId": "f72aa87a-781a-415d-c732-d736d683c5ad"
      },
      "execution_count": 8,
      "outputs": [
        {
          "output_type": "execute_result",
          "data": {
            "text/plain": [
              "word    0\n",
              "tag     0\n",
              "dtype: int64"
            ]
          },
          "metadata": {},
          "execution_count": 8
        }
      ]
    },
    {
      "cell_type": "code",
      "source": [
        "# Посмотрим на распределение тэгов\n",
        "\n",
        "df_train_data['tag'].value_counts()"
      ],
      "metadata": {
        "colab": {
          "base_uri": "https://localhost:8080/"
        },
        "id": "IYbUc6KWiUZK",
        "outputId": "8c73dcd3-bbe1-47de-f1c5-a61990bf568f"
      },
      "execution_count": 9,
      "outputs": [
        {
          "output_type": "execute_result",
          "data": {
            "text/plain": [
              "O                 20460\n",
              "I-abstract         4687\n",
              "I-event            2707\n",
              "I-place            2212\n",
              "B-abstract         2002\n",
              "B-person           1920\n",
              "I-person           1866\n",
              "I-object           1732\n",
              "B-place            1150\n",
              "B-object           1017\n",
              "B-event             738\n",
              "I-time              663\n",
              "I-organization      552\n",
              "I-substance         458\n",
              "B-time              401\n",
              "B-organization      397\n",
              "B-substance         278\n",
              "I-quantity          203\n",
              "I-plant             166\n",
              "B-plant             144\n",
              "B-animal            141\n",
              "I-animal            120\n",
              "B-quantity           97\n",
              "Name: tag, dtype: int64"
            ]
          },
          "metadata": {},
          "execution_count": 9
        }
      ]
    },
    {
      "cell_type": "code",
      "source": [
        "df_train_data['tag'].value_counts(normalize=True) * 100"
      ],
      "metadata": {
        "id": "rJZL35pNHvWR",
        "outputId": "2b846d13-9d0b-497d-e0ee-37fe8cf5bfd7",
        "colab": {
          "base_uri": "https://localhost:8080/"
        }
      },
      "execution_count": 10,
      "outputs": [
        {
          "output_type": "execute_result",
          "data": {
            "text/plain": [
              "O                 46.382988\n",
              "I-abstract        10.625468\n",
              "I-event            6.136791\n",
              "I-place            5.014622\n",
              "B-abstract         4.538550\n",
              "B-person           4.352656\n",
              "I-person           4.230237\n",
              "I-object           3.926458\n",
              "B-place            2.607059\n",
              "B-object           2.305547\n",
              "B-event            1.673052\n",
              "I-time             1.503026\n",
              "I-organization     1.251389\n",
              "I-substance        1.038290\n",
              "B-time             0.909070\n",
              "B-organization     0.900002\n",
              "B-substance        0.630228\n",
              "I-quantity         0.460203\n",
              "I-plant            0.376323\n",
              "B-plant            0.326449\n",
              "B-animal           0.319648\n",
              "I-animal           0.272041\n",
              "B-quantity         0.219900\n",
              "Name: tag, dtype: float64"
            ]
          },
          "metadata": {},
          "execution_count": 10
        }
      ]
    },
    {
      "cell_type": "markdown",
      "source": [
        "Тег 'O' занимает 46.38% от общего количества элементов в датасете. Тег 'I-abstract' второй по доле элементов - 10.63%. 'B-quantity' - тег с наименьшим количеством элементов (0.22%)."
      ],
      "metadata": {
        "id": "b6w3amkTI81_"
      }
    },
    {
      "cell_type": "code",
      "source": [
        "plt.figure(figsize=(16, 12))\n",
        "plt.pie(x=df_train_data['tag'].value_counts().drop('O').values, labels=df_train_data['tag'].value_counts().drop('O').index)\n",
        "plt.show()"
      ],
      "metadata": {
        "colab": {
          "base_uri": "https://localhost:8080/",
          "height": 683
        },
        "id": "7rNyTHAG5FbT",
        "outputId": "1a586444-0c74-443a-f9de-7a8dc173165e"
      },
      "execution_count": 11,
      "outputs": [
        {
          "output_type": "display_data",
          "data": {
            "image/png": "[encoded data removed]",
            "text/plain": [
              "<Figure size 1152x864 with 1 Axes>"
            ]
          },
          "metadata": {}
        }
      ]
    },
    {
      "cell_type": "code",
      "source": [
        "vocabulary_size = len(df_train_data['word'].unique())\n",
        "vocabulary_size"
      ],
      "metadata": {
        "colab": {
          "base_uri": "https://localhost:8080/"
        },
        "id": "PWTC4-7VodZ1",
        "outputId": "2773bd94-ba6f-4e3c-d9a9-be7ca5c26c52"
      },
      "execution_count": 12,
      "outputs": [
        {
          "output_type": "execute_result",
          "data": {
            "text/plain": [
              "8060"
            ]
          },
          "metadata": {},
          "execution_count": 12
        }
      ]
    },
    {
      "cell_type": "markdown",
      "source": [
        "Словарь содержит 8060 слов. Не так уж и много."
      ],
      "metadata": {
        "id": "L3oUsBo_Jv89"
      }
    },
    {
      "cell_type": "code",
      "source": [
        "def get_data(file):\n",
        "    content = file.readlines()\n",
        "    data, sent = [], []\n",
        "    for line in content:\n",
        "        if not line.strip():\n",
        "            if sent: data.append(sent)\n",
        "            sent = []\n",
        "        else:\n",
        "            word, tag = line.strip().split()\n",
        "            sent.append((word, tag))\n",
        "    return data\n",
        "\n",
        "def load_dataset(dataset_url):\n",
        "    data = urllib.request.urlopen(dataset_url).read().decode('utf-8')\n",
        "    return get_data(io.StringIO(data))"
      ],
      "metadata": {
        "id": "kgiEwqfsau0y"
      },
      "execution_count": 13,
      "outputs": []
    },
    {
      "cell_type": "markdown",
      "source": [
        "А теперь загрузим данные в виде кортежей и сгруппируем слова по предложениям."
      ],
      "metadata": {
        "id": "L5xvK4TfoBUa"
      }
    },
    {
      "cell_type": "code",
      "source": [
        "train_data = load_dataset(TRAIN_DATA_URL)\n",
        "test_data = load_dataset(TEST_DATA_URL)"
      ],
      "metadata": {
        "id": "udd720OVju6k"
      },
      "execution_count": 14,
      "outputs": []
    },
    {
      "cell_type": "code",
      "source": [
        "train_data[0]"
      ],
      "metadata": {
        "colab": {
          "base_uri": "https://localhost:8080/"
        },
        "id": "0qSGswwRkgdq",
        "outputId": "b2942c0b-5d05-4f15-920e-dd7c8cfeb1f5"
      },
      "execution_count": 15,
      "outputs": [
        {
          "output_type": "execute_result",
          "data": {
            "text/plain": [
              "[('The', 'B-object'),\n",
              " ('back', 'I-object'),\n",
              " ('of', 'I-object'),\n",
              " ('my', 'I-object'),\n",
              " ('jersey', 'I-object'),\n",
              " ('says', 'O'),\n",
              " ('\"', 'B-abstract'),\n",
              " ('The', 'I-abstract'),\n",
              " ('Poet', 'I-abstract'),\n",
              " (\"'\", 'I-abstract'),\n",
              " ('because', 'O'),\n",
              " ('growing', 'O'),\n",
              " ('up', 'O'),\n",
              " ('that', 'B-abstract'),\n",
              " ('was', 'O'),\n",
              " ('my', 'B-person'),\n",
              " ('nickname', 'O'),\n",
              " ('.', 'O')]"
            ]
          },
          "metadata": {},
          "execution_count": 15
        }
      ]
    },
    {
      "cell_type": "markdown",
      "source": [
        "Сделаем небольшой препроцессинг - удалим знаки пунктуации, т.к. они не несут особого смысла."
      ],
      "metadata": {
        "id": "DY0MKHpboODg"
      }
    },
    {
      "cell_type": "code",
      "source": [
        "import nltk\n",
        "from string import punctuation\n",
        "\n",
        "preproc_train_data = []\n",
        "\n",
        "for item in train_data:\n",
        "  removed_punctuation = [tup for tup in item if not tup[0] in punctuation]\n",
        "  preproc_train_data.append(removed_punctuation)\n",
        "\n",
        "\n",
        "\n",
        "preproc_test_data = []\n",
        "\n",
        "for item in test_data:\n",
        "  removed_punctuation = [tup for tup in item if not tup[0] in punctuation]\n",
        "  preproc_test_data.append(removed_punctuation)"
      ],
      "metadata": {
        "id": "yZZVcRnXSdJM"
      },
      "execution_count": 16,
      "outputs": []
    },
    {
      "cell_type": "markdown",
      "source": [
        "Самое длинное предложение имеет 71 слово. Это будет размерностью входных данных для нейронки."
      ],
      "metadata": {
        "id": "O2I_6PrToYi1"
      }
    },
    {
      "cell_type": "code",
      "source": [
        "max_seq_len = 0\n",
        "for item in preproc_train_data:\n",
        "  if len(item) > max_seq_len:\n",
        "    max_seq_len = len(item)\n",
        "\n",
        "max_seq_len"
      ],
      "metadata": {
        "id": "ti-apqdwg9Ee",
        "outputId": "7b2ff985-2c45-4088-8e4d-bfd8e5bc27ce",
        "colab": {
          "base_uri": "https://localhost:8080/"
        }
      },
      "execution_count": 17,
      "outputs": [
        {
          "output_type": "execute_result",
          "data": {
            "text/plain": [
              "71"
            ]
          },
          "metadata": {},
          "execution_count": 17
        }
      ]
    },
    {
      "cell_type": "markdown",
      "source": [
        "## **CRF**"
      ],
      "metadata": {
        "id": "OPurGld5pVsA"
      }
    },
    {
      "cell_type": "markdown",
      "source": [
        "Ниже приведена функция для учитывания соседних слов и позиционных тегов."
      ],
      "metadata": {
        "id": "arkcoW08orPP"
      }
    },
    {
      "cell_type": "code",
      "source": [
        "import sklearn_crfsuite\n",
        "from sklearn.model_selection import cross_val_predict\n",
        "from sklearn_crfsuite.metrics import flat_classification_report\n",
        "nltk.download('averaged_perceptron_tagger')\n",
        "\n",
        "def word2features(sent, i):\n",
        "    word = sent[i][0]\n",
        "    postag = sent[i][1]\n",
        "\n",
        "    features = {\n",
        "        'bias': 1.0,\n",
        "        'word.lower()': word.lower(),\n",
        "        'word[-3:]': word[-3:],\n",
        "        'word[-2:]': word[-2:],\n",
        "        'word.isupper()': word.isupper(),\n",
        "        'word.istitle()': word.istitle(),\n",
        "        'word.isdigit()': word.isdigit(),\n",
        "        'postag': postag,\n",
        "        'postag[:2]': postag[:2],\n",
        "    }\n",
        "    if i > 0:\n",
        "        word1 = sent[i-1][0]\n",
        "        postag1 = sent[i-1][1]\n",
        "        features.update({\n",
        "            '-1:word.lower()': word1.lower(),\n",
        "            '-1:word.istitle()': word1.istitle(),\n",
        "            '-1:word.isupper()': word1.isupper(),\n",
        "            '-1:postag': postag1,\n",
        "            '-1:postag[:2]': postag1[:2],\n",
        "        })\n",
        "    else:\n",
        "        features['BOS'] = True\n",
        "\n",
        "    if i < len(sent)-1:\n",
        "        word1 = sent[i+1][0]\n",
        "        postag1 = sent[i+1][1]\n",
        "        features.update({\n",
        "            '+1:word.lower()': word1.lower(),\n",
        "            '+1:word.istitle()': word1.istitle(),\n",
        "            '+1:word.isupper()': word1.isupper(),\n",
        "            '+1:postag': postag1,\n",
        "            '+1:postag[:2]': postag1[:2],\n",
        "        })\n",
        "    else:\n",
        "        features['EOS'] = True\n",
        "\n",
        "    return features\n",
        "\n",
        "\n",
        "def sent2features(sent):\n",
        "    pos_tags = nltk.pos_tag([x for x,y in sent])\n",
        "    return [word2features(sent, i) for i in range(len(pos_tags))]\n",
        "\n",
        "def sent2labels(sent):\n",
        "    return [label for token, label in sent]\n",
        "\n",
        "def sent2tokens(sent):\n",
        "    return [token for token, label in sent]"
      ],
      "metadata": {
        "id": "t1_vrXFvSnHz",
        "outputId": "089e7346-cd96-4d93-c244-4b25d9fcf39f",
        "colab": {
          "base_uri": "https://localhost:8080/"
        }
      },
      "execution_count": 18,
      "outputs": [
        {
          "output_type": "stream",
          "name": "stdout",
          "text": [
            "[nltk_data] Downloading package averaged_perceptron_tagger to\n",
            "[nltk_data]     /root/nltk_data...\n",
            "[nltk_data]   Unzipping taggers/averaged_perceptron_tagger.zip.\n"
          ]
        }
      ]
    },
    {
      "cell_type": "code",
      "source": [
        "X_train = [sent2features(sent) for sent in preproc_train_data]\n",
        "y_train = [sent2labels(sent) for sent in preproc_train_data]"
      ],
      "metadata": {
        "id": "d5zB-FKga3hj"
      },
      "execution_count": 19,
      "outputs": []
    },
    {
      "cell_type": "markdown",
      "source": [
        "Обучим простую CRF модель. "
      ],
      "metadata": {
        "id": "UxFECrFzpB3d"
      }
    },
    {
      "cell_type": "code",
      "source": [
        "crf = sklearn_crfsuite.CRF(\n",
        "    algorithm='lbfgs',\n",
        "    c1=0.1,\n",
        "    c2=0.1,\n",
        "    max_iterations=1000,\n",
        "    all_possible_transitions=True\n",
        ")\n",
        "crf.fit(X_train, y_train)"
      ],
      "metadata": {
        "id": "CgFHHWx8UnuS",
        "outputId": "ed69d30c-5997-47ff-8226-e01522aa4116",
        "colab": {
          "base_uri": "https://localhost:8080/"
        }
      },
      "execution_count": 20,
      "outputs": [
        {
          "output_type": "stream",
          "name": "stderr",
          "text": [
            "/usr/local/lib/python3.7/dist-packages/sklearn/base.py:213: FutureWarning: From version 0.24, get_params will raise an AttributeError if a parameter cannot be retrieved as an instance attribute. Previously it would return None.\n",
            "  FutureWarning)\n"
          ]
        },
        {
          "output_type": "execute_result",
          "data": {
            "text/plain": [
              "CRF(algorithm='lbfgs', all_possible_transitions=True, c1=0.1, c2=0.1,\n",
              "    keep_tempfiles=None, max_iterations=1000)"
            ]
          },
          "metadata": {},
          "execution_count": 20
        }
      ]
    },
    {
      "cell_type": "code",
      "source": [
        "X_test = [sent2features(sent) for sent in preproc_test_data]\n",
        "y_test = [sent2labels(sent) for sent in preproc_test_data]\n",
        "\n",
        "y_pred = crf.predict(X_test)\n",
        "print(flat_classification_report(y_test, y_pred, labels = df_train_data['tag'].unique()))"
      ],
      "metadata": {
        "id": "66yrMCVldbQ6",
        "outputId": "e6dce1c9-034d-48c5-b272-15e42bb5450f",
        "colab": {
          "base_uri": "https://localhost:8080/"
        }
      },
      "execution_count": 21,
      "outputs": [
        {
          "output_type": "stream",
          "name": "stderr",
          "text": [
            "/usr/local/lib/python3.7/dist-packages/sklearn/utils/validation.py:70: FutureWarning: Pass labels=['B-object' 'I-object' 'O' 'B-abstract' 'I-abstract' 'B-person' 'B-place'\n",
            " 'I-place' 'B-organization' 'B-quantity' 'I-quantity' 'B-event' 'I-event'\n",
            " 'B-substance' 'I-substance' 'B-time' 'I-time' 'I-organization' 'I-person'\n",
            " 'B-plant' 'I-plant' 'B-animal' 'I-animal'] as keyword args. From version 0.25 passing these as positional arguments will result in an error\n",
            "  FutureWarning)\n"
          ]
        },
        {
          "output_type": "stream",
          "name": "stdout",
          "text": [
            "                precision    recall  f1-score   support\n",
            "\n",
            "      B-object       1.00      1.00      1.00       418\n",
            "      I-object       1.00      1.00      1.00       757\n",
            "             O       1.00      1.00      1.00      6587\n",
            "    B-abstract       1.00      1.00      1.00       792\n",
            "    I-abstract       1.00      1.00      1.00      1980\n",
            "      B-person       1.00      1.00      1.00       823\n",
            "       B-place       1.00      1.00      1.00       469\n",
            "       I-place       1.00      1.00      1.00       894\n",
            "B-organization       1.00      1.00      1.00       191\n",
            "    B-quantity       1.00      1.00      1.00        42\n",
            "    I-quantity       1.00      1.00      1.00        73\n",
            "       B-event       1.00      1.00      1.00       315\n",
            "       I-event       1.00      1.00      1.00       899\n",
            "   B-substance       1.00      1.00      1.00        93\n",
            "   I-substance       1.00      1.00      1.00       157\n",
            "        B-time       1.00      1.00      1.00       179\n",
            "        I-time       1.00      1.00      1.00       220\n",
            "I-organization       1.00      1.00      1.00       274\n",
            "      I-person       1.00      1.00      1.00       665\n",
            "       B-plant       1.00      1.00      1.00        62\n",
            "       I-plant       1.00      1.00      1.00        55\n",
            "      B-animal       1.00      1.00      1.00        42\n",
            "      I-animal       1.00      1.00      1.00        38\n",
            "\n",
            "      accuracy                           1.00     16025\n",
            "     macro avg       1.00      1.00      1.00     16025\n",
            "  weighted avg       1.00      1.00      1.00     16025\n",
            "\n"
          ]
        }
      ]
    },
    {
      "cell_type": "markdown",
      "source": [
        "Результаты выглядят слишком хорошо, что достаточно подозрительно."
      ],
      "metadata": {
        "id": "WrRby-5dpIil"
      }
    },
    {
      "cell_type": "markdown",
      "source": [
        "## **LSTM**"
      ],
      "metadata": {
        "id": "IhLk5gRhpdpH"
      }
    },
    {
      "cell_type": "code",
      "source": [
        "import tensorflow as tf\n",
        "try:\n",
        "    tpu = tf.distribute.cluster_resolver.TPUClusterResolver()\n",
        "    print('Running on TPU ', tpu.master())\n",
        "except ValueError:   \n",
        "    tpu = None\n",
        "\n",
        "if tpu:\n",
        "    tf.config.experimental_connect_to_cluster(tpu)\n",
        "    tf.tpu.experimental.initialize_tpu_system(tpu)\n",
        "    strategy = tf.distribute.experimental.TPUStrategy(tpu)\n",
        "else:\n",
        "    strategy = tf.distribute.get_strategy()\n",
        "\n",
        "AUTO = tf.data.experimental.AUTOTUNE\n",
        "print(\"REPLICAS: \", strategy.num_replicas_in_sync)"
      ],
      "metadata": {
        "colab": {
          "base_uri": "https://localhost:8080/"
        },
        "id": "esy9dkHembGf",
        "outputId": "d8dad77b-d1af-4cbb-b4b6-dc7a397e46a9"
      },
      "execution_count": 22,
      "outputs": [
        {
          "output_type": "stream",
          "name": "stdout",
          "text": [
            "REPLICAS:  1\n"
          ]
        }
      ]
    },
    {
      "cell_type": "code",
      "source": [
        "from tensorflow import keras\n",
        "import tensorflow.keras.backend as K\n",
        "from tensorflow.keras.preprocessing.text import Tokenizer\n",
        "from tensorflow.keras.preprocessing.sequence import pad_sequences\n",
        "import matplotlib.pyplot as plt\n",
        "import numpy as np\n",
        "from gensim.models import KeyedVectors"
      ],
      "metadata": {
        "id": "B4K23wSbgYvj"
      },
      "execution_count": 23,
      "outputs": []
    },
    {
      "cell_type": "code",
      "source": [
        "MAX_LEN = 71\n",
        "empty_token = '<UNK>'\n",
        "empty_pos = '^'\n",
        "empty_tag = '$'\n",
        "pad_value = 0\n",
        "embed_dim = 300"
      ],
      "metadata": {
        "id": "wQBk14-WkiY3"
      },
      "execution_count": 24,
      "outputs": []
    },
    {
      "cell_type": "code",
      "source": [
        "tags = list(set(df_train_data['tag'].values))\n",
        "NUM_TAGS = len(tags)\n",
        "\n",
        "tags2index = {t:i for i,t in enumerate(tags)}\n",
        "index2tags = {i:t for i,t in enumerate(tags)}"
      ],
      "metadata": {
        "id": "DAp9oH9B25f_"
      },
      "execution_count": 25,
      "outputs": []
    },
    {
      "cell_type": "code",
      "source": [
        "sentences_train = [' '.join([tup[0].lower() for tup in sent]) for sent in preproc_train_data]\n",
        "sent_tokenizer = Tokenizer(oov_token=empty_token, filters='\\t\\n') \n",
        "sent_tokenizer.fit_on_texts(sentences_train)\n",
        "sentences_train = sent_tokenizer.texts_to_sequences(sentences_train)\n",
        "sentences_train = pad_sequences(sentences_train, padding='post', value=pad_value, maxlen=MAX_LEN)\n",
        "NUM_WORDS = len(sent_tokenizer.word_index)\n",
        "\n",
        "sentences_test = [' '.join([tup[0].lower() for tup in sent]) for sent in preproc_test_data]\n",
        "sentences_test = sent_tokenizer.texts_to_sequences(sentences_test)\n",
        "sentences_test = pad_sequences(sentences_test, padding='post', value=pad_value, maxlen=MAX_LEN)"
      ],
      "metadata": {
        "id": "qskCURkfc3tu"
      },
      "execution_count": 26,
      "outputs": []
    },
    {
      "cell_type": "code",
      "source": [
        "from tensorflow.keras.utils import to_categorical\n",
        "\n",
        "tags_train = [[tags2index[tup[1]] for tup in sent] for sent in preproc_train_data]\n",
        "tags_train = pad_sequences(tags_train, padding='post', value=pad_value, maxlen=MAX_LEN)\n",
        "\n",
        "tags_test = [[tags2index[tup[1]] for tup in sent] for sent in preproc_test_data]\n",
        "tags_test = pad_sequences(tags_test, padding='post', value=pad_value, maxlen=MAX_LEN)\n",
        "\n",
        "tags_train= [to_categorical(i, num_classes = NUM_TAGS) for i in tags_train]\n",
        "tags_test= [to_categorical(i, num_classes = NUM_TAGS) for i in tags_test]"
      ],
      "metadata": {
        "id": "l7xk9uHihOUC"
      },
      "execution_count": 37,
      "outputs": []
    },
    {
      "cell_type": "code",
      "source": [
        "def load_glove():\n",
        "    file = f'/content/drive/My Drive/glove_models/glove.6B.{embed_dim}d.txt'\n",
        "    embeddings_index = dict()\n",
        "    f = open(file)\n",
        "    for line in f:\n",
        "        values = line.split()\n",
        "        word = values[0]\n",
        "        coefs = np.asarray(values[1:], dtype='float32')\n",
        "        embeddings_index[word] = coefs\n",
        "    f.close()\n",
        "    print('Loaded %s word vectors.' % len(embeddings_index))\n",
        "\n",
        "    all_embs = np.stack(list(embeddings_index.values()))\n",
        "    emb_mean, emb_std = np.mean(all_embs), np.std(all_embs)\n",
        "    embedding_matrix = np.random.normal(emb_mean, emb_std, (NUM_WORDS + 1, embed_dim))\n",
        "    embeddedCount = 0\n",
        "    not_found = []\n",
        "    for word, idx in sent_tokenizer.word_index.items():\n",
        "        embedding_vector = embeddings_index.get(word.lower())\n",
        "        if embedding_vector is not None: \n",
        "            embedding_matrix[idx] = embedding_vector\n",
        "            embeddedCount += 1\n",
        "    print('total embedded:',embeddedCount,'common words')\n",
        "\n",
        "    del(embeddings_index)\n",
        "    del(all_embs)\n",
        "    return embedding_matrix"
      ],
      "metadata": {
        "id": "ay-IX8I2hfim"
      },
      "execution_count": 28,
      "outputs": []
    },
    {
      "cell_type": "code",
      "source": [
        "glove = load_glove()"
      ],
      "metadata": {
        "colab": {
          "base_uri": "https://localhost:8080/"
        },
        "id": "80iTzxODhpN7",
        "outputId": "6015d1a0-836f-43b4-9cd3-a491e52b57a0"
      },
      "execution_count": 29,
      "outputs": [
        {
          "output_type": "stream",
          "name": "stdout",
          "text": [
            "Loaded 400000 word vectors.\n",
            "total embedded: 6946 common words\n"
          ]
        }
      ]
    },
    {
      "cell_type": "code",
      "source": [
        "from tensorflow.keras.models import Model\n",
        "from tensorflow.keras.layers import Dense, LSTM, Input, Bidirectional, TimeDistributed, Embedding, Concatenate\n",
        "\n",
        "def model():\n",
        "    with strategy.scope():\n",
        "        custom_emb = keras.initializers.Constant(glove)\n",
        "        regularizer = tf.keras.regularizers.l1_l2(l1=0.001, l2=0.0001)\n",
        "        inputs = Input(shape=(MAX_LEN,), dtype='int32')\n",
        "        word_emb = Embedding(NUM_WORDS + 1, embed_dim, embeddings_initializer=custom_emb, trainable=True)(inputs)\n",
        "        lstm = Bidirectional(LSTM(32, return_sequences=True, kernel_regularizer=regularizer))(word_emb)\n",
        "        td = TimeDistributed(Dense(NUM_TAGS, activation='softmax', kernel_regularizer=regularizer))(lstm)\n",
        "        model = Model(inputs=[inputs], outputs=[td])\n",
        "        return model"
      ],
      "metadata": {
        "id": "-k6AZArEhq3K"
      },
      "execution_count": 64,
      "outputs": []
    },
    {
      "cell_type": "code",
      "source": [
        "K.clear_session()\n",
        "model = model()\n",
        "print(model.summary())"
      ],
      "metadata": {
        "colab": {
          "base_uri": "https://localhost:8080/"
        },
        "id": "H6J7LQ2tmMv9",
        "outputId": "65cc0d18-ebe8-4ba9-ca35-1ccdb6923a87"
      },
      "execution_count": 65,
      "outputs": [
        {
          "output_type": "stream",
          "name": "stdout",
          "text": [
            "Model: \"model\"\n",
            "_________________________________________________________________\n",
            " Layer (type)                Output Shape              Param #   \n",
            "=================================================================\n",
            " input_1 (InputLayer)        [(None, 71)]              0         \n",
            "                                                                 \n",
            " embedding (Embedding)       (None, 71, 300)           2172300   \n",
            "                                                                 \n",
            " bidirectional (Bidirectiona  (None, 71, 64)           85248     \n",
            " l)                                                              \n",
            "                                                                 \n",
            " time_distributed (TimeDistr  (None, 71, 23)           1495      \n",
            " ibuted)                                                         \n",
            "                                                                 \n",
            "=================================================================\n",
            "Total params: 2,259,043\n",
            "Trainable params: 2,259,043\n",
            "Non-trainable params: 0\n",
            "_________________________________________________________________\n",
            "None\n"
          ]
        }
      ]
    },
    {
      "cell_type": "code",
      "source": [
        "from tensorflow.keras.optimizers import Adam\n",
        "from tensorflow.keras.callbacks import ModelCheckpoint, EarlyStopping\n",
        "\n",
        "losses, val_losses = [], []\n",
        "accs, val_accs = [], []\n",
        "model.compile(loss='categorical_crossentropy', optimizer=Adam(0.001), metrics=['acc'])"
      ],
      "metadata": {
        "id": "7_XiDJogmPfN"
      },
      "execution_count": 66,
      "outputs": []
    },
    {
      "cell_type": "code",
      "source": [
        "history = model.fit(\n",
        "    x = sentences_train,\n",
        "    y = np.array(tags_train),\n",
        "    validation_data = (sentences_test, np.array(tags_test)),\n",
        "    epochs = 30,\n",
        "    batch_size = 128 * strategy.num_replicas_in_sync,\n",
        "    verbose = 1\n",
        ")\n",
        "\n",
        "losses += list(history.history['loss'])\n",
        "val_losses += list(history.history['val_loss'])\n",
        "\n",
        "accs += list(history.history['acc'])\n",
        "val_accs += list(history.history['val_acc'])"
      ],
      "metadata": {
        "colab": {
          "base_uri": "https://localhost:8080/"
        },
        "id": "6mmRnyAvmjv-",
        "outputId": "1c25d01d-457c-48a3-e97a-29d3db40c5c5"
      },
      "execution_count": 67,
      "outputs": [
        {
          "output_type": "stream",
          "name": "stdout",
          "text": [
            "Epoch 1/30\n",
            "20/20 [==============================] - 14s 408ms/step - loss: 5.8246 - acc: 0.7455 - val_loss: 4.8204 - val_acc: 0.8526\n",
            "Epoch 2/30\n",
            "20/20 [==============================] - 7s 353ms/step - loss: 4.3938 - acc: 0.8645 - val_loss: 3.9561 - val_acc: 0.8654\n",
            "Epoch 3/30\n",
            "20/20 [==============================] - 7s 353ms/step - loss: 3.5835 - acc: 0.8687 - val_loss: 3.1986 - val_acc: 0.8656\n",
            "Epoch 4/30\n",
            "20/20 [==============================] - 7s 356ms/step - loss: 2.8766 - acc: 0.8686 - val_loss: 2.5564 - val_acc: 0.8658\n",
            "Epoch 5/30\n",
            "20/20 [==============================] - 7s 353ms/step - loss: 2.2938 - acc: 0.8691 - val_loss: 2.0458 - val_acc: 0.8659\n",
            "Epoch 6/30\n",
            "20/20 [==============================] - 7s 354ms/step - loss: 1.8479 - acc: 0.8691 - val_loss: 1.6747 - val_acc: 0.8661\n",
            "Epoch 7/30\n",
            "20/20 [==============================] - 7s 354ms/step - loss: 1.5346 - acc: 0.8692 - val_loss: 1.4202 - val_acc: 0.8661\n",
            "Epoch 8/30\n",
            "20/20 [==============================] - 7s 354ms/step - loss: 1.3166 - acc: 0.8694 - val_loss: 1.2394 - val_acc: 0.8664\n",
            "Epoch 9/30\n",
            "20/20 [==============================] - 7s 366ms/step - loss: 1.1594 - acc: 0.8700 - val_loss: 1.1069 - val_acc: 0.8665\n",
            "Epoch 10/30\n",
            "20/20 [==============================] - 7s 373ms/step - loss: 1.0421 - acc: 0.8702 - val_loss: 1.0061 - val_acc: 0.8672\n",
            "Epoch 11/30\n",
            "20/20 [==============================] - 8s 388ms/step - loss: 0.9514 - acc: 0.8712 - val_loss: 0.9278 - val_acc: 0.8682\n",
            "Epoch 12/30\n",
            "20/20 [==============================] - 7s 366ms/step - loss: 0.8795 - acc: 0.8724 - val_loss: 0.8638 - val_acc: 0.8686\n",
            "Epoch 13/30\n",
            "20/20 [==============================] - 7s 364ms/step - loss: 0.8203 - acc: 0.8740 - val_loss: 0.8117 - val_acc: 0.8698\n",
            "Epoch 14/30\n",
            "20/20 [==============================] - 7s 368ms/step - loss: 0.7714 - acc: 0.8756 - val_loss: 0.7691 - val_acc: 0.8709\n",
            "Epoch 15/30\n",
            "20/20 [==============================] - 7s 375ms/step - loss: 0.7299 - acc: 0.8774 - val_loss: 0.7316 - val_acc: 0.8729\n",
            "Epoch 16/30\n",
            "20/20 [==============================] - 8s 398ms/step - loss: 0.6940 - acc: 0.8794 - val_loss: 0.7023 - val_acc: 0.8739\n",
            "Epoch 17/30\n",
            "20/20 [==============================] - 9s 432ms/step - loss: 0.6632 - acc: 0.8819 - val_loss: 0.6749 - val_acc: 0.8750\n",
            "Epoch 18/30\n",
            "20/20 [==============================] - 7s 366ms/step - loss: 0.6366 - acc: 0.8838 - val_loss: 0.6527 - val_acc: 0.8758\n",
            "Epoch 19/30\n",
            "20/20 [==============================] - 7s 372ms/step - loss: 0.6128 - acc: 0.8862 - val_loss: 0.6337 - val_acc: 0.8763\n",
            "Epoch 20/30\n",
            "20/20 [==============================] - 7s 373ms/step - loss: 0.5914 - acc: 0.8884 - val_loss: 0.6185 - val_acc: 0.8765\n",
            "Epoch 21/30\n",
            "20/20 [==============================] - 7s 367ms/step - loss: 0.5733 - acc: 0.8903 - val_loss: 0.6033 - val_acc: 0.8776\n",
            "Epoch 22/30\n",
            "20/20 [==============================] - 7s 365ms/step - loss: 0.5562 - acc: 0.8925 - val_loss: 0.5936 - val_acc: 0.8778\n",
            "Epoch 23/30\n",
            "20/20 [==============================] - 7s 370ms/step - loss: 0.5409 - acc: 0.8943 - val_loss: 0.5844 - val_acc: 0.8779\n",
            "Epoch 24/30\n",
            "20/20 [==============================] - 8s 377ms/step - loss: 0.5282 - acc: 0.8961 - val_loss: 0.5756 - val_acc: 0.8781\n",
            "Epoch 25/30\n",
            "20/20 [==============================] - 7s 374ms/step - loss: 0.5161 - acc: 0.8978 - val_loss: 0.5699 - val_acc: 0.8787\n",
            "Epoch 26/30\n",
            "20/20 [==============================] - 7s 370ms/step - loss: 0.5060 - acc: 0.8990 - val_loss: 0.5648 - val_acc: 0.8782\n",
            "Epoch 27/30\n",
            "20/20 [==============================] - 7s 372ms/step - loss: 0.4947 - acc: 0.9017 - val_loss: 0.5621 - val_acc: 0.8784\n",
            "Epoch 28/30\n",
            "20/20 [==============================] - 7s 370ms/step - loss: 0.4855 - acc: 0.9032 - val_loss: 0.5585 - val_acc: 0.8779\n",
            "Epoch 29/30\n",
            "20/20 [==============================] - 8s 379ms/step - loss: 0.4760 - acc: 0.9055 - val_loss: 0.5534 - val_acc: 0.8790\n",
            "Epoch 30/30\n",
            "20/20 [==============================] - 8s 383ms/step - loss: 0.4688 - acc: 0.9067 - val_loss: 0.5509 - val_acc: 0.8799\n"
          ]
        }
      ]
    },
    {
      "cell_type": "markdown",
      "source": [
        "LSTM показывает неплохой результат - 87.99% на валидационной выборке. Посмотрим подробнее на поклассовые метрики."
      ],
      "metadata": {
        "id": "DcDl8V_1prVt"
      }
    },
    {
      "cell_type": "code",
      "source": [
        "import numpy as np\n",
        "from sklearn.metrics import classification_report\n",
        "\n",
        "results = model.predict(sentences_test)\n",
        "\n",
        "y_pred = []\n",
        "y_true = []\n",
        "for i, sent in enumerate(results):\n",
        "    for j, w in enumerate(sent):\n",
        "        y_pred.append(index2tags[np.argmax(w)])\n",
        "        y_true.append(index2tags[np.argmax(tags_test[i][j])])\n",
        "\n",
        "y_pred = np.array(y_pred)\n",
        "y_true = np.array(y_true)\n",
        "\n",
        "print(classification_report(y_pred=y_pred, y_true=y_true, labels=df_train_data['tag'].unique()))"
      ],
      "metadata": {
        "colab": {
          "base_uri": "https://localhost:8080/"
        },
        "id": "q-KX4qrzmrU9",
        "outputId": "3ccf0c4a-b0a0-49e8-9d66-06d30bb145d8"
      },
      "execution_count": 68,
      "outputs": [
        {
          "output_type": "stream",
          "name": "stderr",
          "text": [
            "/usr/local/lib/python3.7/dist-packages/sklearn/metrics/_classification.py:1221: UndefinedMetricWarning: Precision and F-score are ill-defined and being set to 0.0 in labels with no predicted samples. Use `zero_division` parameter to control this behavior.\n",
            "  _warn_prf(average, modifier, msg_start, len(result))\n"
          ]
        },
        {
          "output_type": "stream",
          "name": "stdout",
          "text": [
            "                precision    recall  f1-score   support\n",
            "\n",
            "      B-object       0.99      1.00      1.00     54966\n",
            "      I-object       0.00      0.00      0.00        42\n",
            "             O       0.00      0.00      0.00        38\n",
            "    B-abstract       0.22      0.21      0.22       665\n",
            "    I-abstract       0.00      0.00      0.00       191\n",
            "      B-person       0.20      0.00      0.00       757\n",
            "       B-place       0.30      0.36      0.33      1980\n",
            "       I-place       0.00      0.00      0.00       315\n",
            "B-organization       0.00      0.00      0.00       469\n",
            "    B-quantity       0.00      0.00      0.00       418\n",
            "    I-quantity       0.00      0.00      0.00       220\n",
            "       B-event       0.00      0.00      0.00        73\n",
            "       I-event       0.00      0.00      0.00       274\n",
            "   B-substance       0.00      0.00      0.00        55\n",
            "   I-substance       0.00      0.00      0.00       157\n",
            "        B-time       0.36      0.17      0.23       823\n",
            "        I-time       0.00      0.00      0.00        93\n",
            "I-organization       0.00      0.00      0.00       179\n",
            "      I-person       0.60      0.91      0.72      6587\n",
            "       B-plant       0.00      0.00      0.00        42\n",
            "       I-plant       0.12      0.00      0.00       792\n",
            "      B-animal       0.32      0.45      0.37       894\n",
            "      I-animal       0.15      0.15      0.15       899\n",
            "\n",
            "      accuracy                           0.88     70929\n",
            "     macro avg       0.14      0.14      0.13     70929\n",
            "  weighted avg       0.85      0.88      0.86     70929\n",
            "\n"
          ]
        }
      ]
    },
    {
      "cell_type": "markdown",
      "source": [
        "Из таблицы видно, что достаточно хорошо определяется классы 'B-Object' и 'I-person'."
      ],
      "metadata": {
        "id": "EPUKa9EJALB-"
      }
    },
    {
      "cell_type": "code",
      "source": [
        "history_dict = history.history\n",
        "history_dict.keys()\n",
        "acc = history_dict['acc']\n",
        "val_acc = history_dict['val_acc']\n",
        "loss = history_dict['loss']\n",
        "val_loss = history_dict['val_loss']\n",
        "\n",
        "epochs = range(1, len(acc) + 1)\n",
        "\n",
        "plt.figure(figsize=(16, 12))\n",
        "plt.clf()\n",
        "\n",
        "plt.plot(epochs, acc, '.', label='Training acc')\n",
        "plt.plot(epochs, val_acc, 'b', label='Validation acc')\n",
        "plt.plot(epochs, loss, '.', label='Training loss')\n",
        "plt.plot(epochs, val_loss, 'r', label='Validation loss')\n",
        "plt.title('Training and validation accuracy')\n",
        "plt.xlabel('Epochs')\n",
        "plt.ylabel('Accuracy')\n",
        "plt.legend()\n",
        "\n",
        "plt.show()"
      ],
      "metadata": {
        "id": "WdkfWuJp65Wi",
        "outputId": "b583390e-6774-4bf8-d3b4-a07aab449c0c",
        "colab": {
          "base_uri": "https://localhost:8080/",
          "height": 730
        }
      },
      "execution_count": 71,
      "outputs": [
        {
          "output_type": "display_data",
          "data": {
            "image/png": "[encoded data removed]",
            "text/plain": [
              "<Figure size 1152x864 with 1 Axes>"
            ]
          },
          "metadata": {
            "needs_background": "light"
          }
        }
      ]
    },
    {
      "cell_type": "markdown",
      "source": [
        "LSTM достаточно неплохо справилась с задачей, однако несбалансированность тэгов дает о себе знать. Возможно дополнительные эксперименты с различными параметрами помогут улучшить точность модели. "
      ],
      "metadata": {
        "id": "V_HtWk9JBRT5"
      }
    },
    {
      "cell_type": "code",
      "source": [
        ""
      ],
      "metadata": {
        "id": "YcnmTgQiAi5i"
      },
      "execution_count": null,
      "outputs": []
    }
  ]
}